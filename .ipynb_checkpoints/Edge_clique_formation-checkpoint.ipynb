{
 "cells": [
  {
   "cell_type": "code",
   "execution_count": 21,
   "metadata": {},
   "outputs": [],
   "source": [
    "import os\n",
    "import json\n",
    "from itertools import combinations"
   ]
  },
  {
   "cell_type": "code",
   "execution_count": 25,
   "metadata": {},
   "outputs": [],
   "source": [
    "def clique(i,directoryName):\n",
    "    fails = open('./fails.txt','a+',encoding='utf-8')\n",
    "    file = open('./Edges_Basic/'+str(i)+'.json')\n",
    "    edgeFile = open(directoryName+'/'+str(i)+'.json','w',encoding=\"utf-8\")\n",
    "    data = json.load(file)\n",
    "    person = list(data.keys())[0]\n",
    "    \n",
    "    if(len(data[person]) > 46): # implies at least 2000 links\n",
    "        fails.write(str(i)+\" \"+person+\"\\n\")\n",
    "        fails.close()\n",
    "        return\n",
    "    \n",
    "    links = list(combinations(data[person],2))\n",
    "    l = len(links)\n",
    "    print(i, l,person)\n",
    "    edgeFile.write('[')\n",
    "    for i in range(len(links)):\n",
    "        if((i+1)%100 == 0):\n",
    "            print(i+1)\n",
    "        edgeFile.write(str({\n",
    "            \"data\":{\n",
    "            \"source\": links[i][0]['id'],\n",
    "            \"target\": links[i][1]['id'],\n",
    "            \"source-score\": float(links[i][0]['score']),\n",
    "            \"target-score\": float(links[i][1]['score']),\n",
    "            \"interaction\": person\n",
    "          }\n",
    "        }))\n",
    "        if(i != l-1):\n",
    "            edgeFile.write(',')\n",
    "    edgeFile.write(']')\n",
    "    file.close()\n",
    "    edgeFile.close()"
   ]
  },
  {
   "cell_type": "code",
   "execution_count": 26,
   "metadata": {},
   "outputs": [],
   "source": [
    "def createEdges(start,end):\n",
    "    directoryName = './Edges_intermediate/'+str(start)+\"-\"+str(end)\n",
    "    os.mkdir(directoryName)\n",
    "    for i in range(start,end):\n",
    "        clique(i,directoryName)"
   ]
  },
  {
   "cell_type": "code",
   "execution_count": null,
   "metadata": {
    "scrolled": true
   },
   "outputs": [],
   "source": [
    "start = 500000\n",
    "end = 600000\n",
    "while(end!= 2400000):\n",
    "    createEdges(start,end);\n",
    "    start += 100000\n",
    "    end += 100000\n",
    "    print('----------------------------------------------\\n')"
   ]
  },
  {
   "cell_type": "code",
   "execution_count": null,
   "metadata": {},
   "outputs": [],
   "source": []
  }
 ],
 "metadata": {
  "kernelspec": {
   "display_name": "Python 3",
   "language": "python",
   "name": "python3"
  },
  "toc": {
   "base_numbering": 1,
   "nav_menu": {},
   "number_sections": true,
   "sideBar": true,
   "skip_h1_title": false,
   "title_cell": "Table of Contents",
   "title_sidebar": "Contents",
   "toc_cell": false,
   "toc_position": {},
   "toc_section_display": true,
   "toc_window_display": false
  }
 },
 "nbformat": 4,
 "nbformat_minor": 4
}
