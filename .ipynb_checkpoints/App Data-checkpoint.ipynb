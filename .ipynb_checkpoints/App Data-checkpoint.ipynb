{
 "cells": [
  {
   "cell_type": "code",
   "execution_count": 14,
   "metadata": {},
   "outputs": [],
   "source": [
    "import play_scraper as scrape"
   ]
  },
  {
   "cell_type": "code",
   "execution_count": 21,
   "metadata": {},
   "outputs": [],
   "source": [
    "collections = scrape.lists.COLLECTIONS\n",
    "categories = scrape.lists.CATEGORIES"
   ]
  },
  {
   "cell_type": "code",
   "execution_count": 28,
   "metadata": {},
   "outputs": [
    {
     "data": {
      "text/plain": [
       "{'TOP_FREE': 'topselling_free',\n",
       " 'TOP_PAID': 'topselling_paid',\n",
       " 'TOP_GROSSING': 'topgrossing',\n",
       " 'TRENDING': 'movers_shakers'}"
      ]
     },
     "execution_count": 28,
     "metadata": {},
     "output_type": "execute_result"
    }
   ],
   "source": [
    "del collections['NEW_FREE']\n",
    "del collections['NEW_PAID']\n",
    "collections"
   ]
  },
  {
   "cell_type": "code",
   "execution_count": 29,
   "metadata": {},
   "outputs": [
    {
     "data": {
      "text/plain": [
       "{'ANDROID_WEAR': 'ANDROID_WEAR',\n",
       " 'ART_AND_DESIGN': 'ART_AND_DESIGN',\n",
       " 'AUTO_AND_VEHICLES': 'AUTO_AND_VEHICLES',\n",
       " 'BEAUTY': 'BEAUTY',\n",
       " 'BOOKS_AND_REFERENCE': 'BOOKS_AND_REFERENCE',\n",
       " 'BUSINESS': 'BUSINESS',\n",
       " 'COMICS': 'COMICS',\n",
       " 'COMMUNICATION': 'COMMUNICATION',\n",
       " 'DATING': 'DATING',\n",
       " 'EDUCATION': 'EDUCATION',\n",
       " 'ENTERTAINMENT': 'ENTERTAINMENT',\n",
       " 'EVENTS': 'EVENTS',\n",
       " 'FAMILY': 'FAMILY',\n",
       " 'FAMILY_ACTION': 'FAMILY_ACTION',\n",
       " 'FAMILY_BRAINGAMES': 'FAMILY_BRAINGAMES',\n",
       " 'FAMILY_CREATE': 'FAMILY_CREATE',\n",
       " 'FAMILY_EDUCATION': 'FAMILY_EDUCATION',\n",
       " 'FAMILY_MUSICVIDEO': 'FAMILY_MUSICVIDEO',\n",
       " 'FAMILY_PRETEND': 'FAMILY_PRETEND',\n",
       " 'FINANCE': 'FINANCE',\n",
       " 'FOOD_AND_DRINK': 'FOOD_AND_DRINK',\n",
       " 'GAME': 'GAME',\n",
       " 'GAME_ACTION': 'GAME_ACTION',\n",
       " 'GAME_ADVENTURE': 'GAME_ADVENTURE',\n",
       " 'GAME_ARCADE': 'GAME_ARCADE',\n",
       " 'GAME_BOARD': 'GAME_BOARD',\n",
       " 'GAME_CARD': 'GAME_CARD',\n",
       " 'GAME_CASINO': 'GAME_CASINO',\n",
       " 'GAME_CASUAL': 'GAME_CASUAL',\n",
       " 'GAME_EDUCATIONAL': 'GAME_EDUCATIONAL',\n",
       " 'GAME_MUSIC': 'GAME_MUSIC',\n",
       " 'GAME_PUZZLE': 'GAME_PUZZLE',\n",
       " 'GAME_RACING': 'GAME_RACING',\n",
       " 'GAME_ROLE_PLAYING': 'GAME_ROLE_PLAYING',\n",
       " 'GAME_SIMULATION': 'GAME_SIMULATION',\n",
       " 'GAME_SPORTS': 'GAME_SPORTS',\n",
       " 'GAME_STRATEGY': 'GAME_STRATEGY',\n",
       " 'GAME_TRIVIA': 'GAME_TRIVIA',\n",
       " 'GAME_WORD': 'GAME_WORD',\n",
       " 'HEALTH_AND_FITNESS': 'HEALTH_AND_FITNESS',\n",
       " 'HOUSE_AND_HOME': 'HOUSE_AND_HOME',\n",
       " 'LIBRARIES_AND_DEMO': 'LIBRARIES_AND_DEMO',\n",
       " 'LIFESTYLE': 'LIFESTYLE',\n",
       " 'MAPS_AND_NAVIGATION': 'MAPS_AND_NAVIGATION',\n",
       " 'MEDICAL': 'MEDICAL',\n",
       " 'MUSIC_AND_AUDIO': 'MUSIC_AND_AUDIO',\n",
       " 'NEWS_AND_MAGAZINES': 'NEWS_AND_MAGAZINES',\n",
       " 'PARENTING': 'PARENTING',\n",
       " 'PERSONALIZATION': 'PERSONALIZATION',\n",
       " 'PHOTOGRAPHY': 'PHOTOGRAPHY',\n",
       " 'PRODUCTIVITY': 'PRODUCTIVITY',\n",
       " 'SHOPPING': 'SHOPPING',\n",
       " 'SOCIAL': 'SOCIAL',\n",
       " 'SPORTS': 'SPORTS',\n",
       " 'TOOLS': 'TOOLS',\n",
       " 'TRAVEL_AND_LOCAL': 'TRAVEL_AND_LOCAL',\n",
       " 'VIDEO_PLAYERS': 'VIDEO_PLAYERS',\n",
       " 'WEATHER': 'WEATHER'}"
      ]
     },
     "execution_count": 29,
     "metadata": {},
     "output_type": "execute_result"
    }
   ],
   "source": [
    "categories"
   ]
  },
  {
   "cell_type": "code",
   "execution_count": 30,
   "metadata": {},
   "outputs": [],
   "source": [
    "def googlePlayAppsList(collections,categories,maxCount = 500):\n",
    "    for catKey,catValue in categories.items():\n",
    "        for collnKey, collnValue in collections.item():\n",
    "            scrape.collection()"
   ]
  },
  {
   "cell_type": "code",
   "execution_count": 31,
   "metadata": {},
   "outputs": [
    {
     "ename": "AttributeError",
     "evalue": "'dict' object has no attribute 'item'",
     "output_type": "error",
     "traceback": [
      "\u001b[1;31m---------------------------------------------------------------------------\u001b[0m",
      "\u001b[1;31mAttributeError\u001b[0m                            Traceback (most recent call last)",
      "\u001b[1;32m<ipython-input-31-edf84af72555>\u001b[0m in \u001b[0;36m<module>\u001b[1;34m\u001b[0m\n\u001b[1;32m----> 1\u001b[1;33m \u001b[0mgooglePlayAppsList\u001b[0m\u001b[1;33m(\u001b[0m\u001b[0mcollections\u001b[0m\u001b[1;33m,\u001b[0m\u001b[0mcategories\u001b[0m\u001b[1;33m)\u001b[0m\u001b[1;33m\u001b[0m\u001b[1;33m\u001b[0m\u001b[0m\n\u001b[0m",
      "\u001b[1;32m<ipython-input-30-c79ad79b320e>\u001b[0m in \u001b[0;36mgooglePlayAppsList\u001b[1;34m(collections, categories, maxCount)\u001b[0m\n\u001b[0;32m      1\u001b[0m \u001b[1;32mdef\u001b[0m \u001b[0mgooglePlayAppsList\u001b[0m\u001b[1;33m(\u001b[0m\u001b[0mcollections\u001b[0m\u001b[1;33m,\u001b[0m\u001b[0mcategories\u001b[0m\u001b[1;33m,\u001b[0m\u001b[0mmaxCount\u001b[0m \u001b[1;33m=\u001b[0m \u001b[1;36m500\u001b[0m\u001b[1;33m)\u001b[0m\u001b[1;33m:\u001b[0m\u001b[1;33m\u001b[0m\u001b[1;33m\u001b[0m\u001b[0m\n\u001b[0;32m      2\u001b[0m     \u001b[1;32mfor\u001b[0m \u001b[0mcatKey\u001b[0m\u001b[1;33m,\u001b[0m\u001b[0mcatValue\u001b[0m \u001b[1;32min\u001b[0m \u001b[0mcategories\u001b[0m\u001b[1;33m.\u001b[0m\u001b[0mitems\u001b[0m\u001b[1;33m(\u001b[0m\u001b[1;33m)\u001b[0m\u001b[1;33m:\u001b[0m\u001b[1;33m\u001b[0m\u001b[1;33m\u001b[0m\u001b[0m\n\u001b[1;32m----> 3\u001b[1;33m         \u001b[1;32mfor\u001b[0m \u001b[0mcollnKey\u001b[0m\u001b[1;33m,\u001b[0m \u001b[0mcollnValue\u001b[0m \u001b[1;32min\u001b[0m \u001b[0mcollections\u001b[0m\u001b[1;33m.\u001b[0m\u001b[0mitem\u001b[0m\u001b[1;33m(\u001b[0m\u001b[1;33m)\u001b[0m\u001b[1;33m:\u001b[0m\u001b[1;33m\u001b[0m\u001b[1;33m\u001b[0m\u001b[0m\n\u001b[0m\u001b[0;32m      4\u001b[0m             \u001b[0mgp\u001b[0m\u001b[1;33m\u001b[0m\u001b[1;33m\u001b[0m\u001b[0m\n",
      "\u001b[1;31mAttributeError\u001b[0m: 'dict' object has no attribute 'item'"
     ]
    }
   ],
   "source": [
    "googlePlayAppsList(collections,categories)"
   ]
  },
  {
   "cell_type": "code",
   "execution_count": null,
   "metadata": {},
   "outputs": [],
   "source": []
  }
 ],
 "metadata": {
  "kernelspec": {
   "display_name": "Python 3",
   "language": "python",
   "name": "python3"
  },
  "language_info": {
   "codemirror_mode": {
    "name": "ipython",
    "version": 3
   },
   "file_extension": ".py",
   "mimetype": "text/x-python",
   "name": "python",
   "nbconvert_exporter": "python",
   "pygments_lexer": "ipython3",
   "version": "3.7.7"
  },
  "toc": {
   "base_numbering": 1,
   "nav_menu": {},
   "number_sections": true,
   "sideBar": true,
   "skip_h1_title": false,
   "title_cell": "Table of Contents",
   "title_sidebar": "Contents",
   "toc_cell": false,
   "toc_position": {},
   "toc_section_display": true,
   "toc_window_display": false
  }
 },
 "nbformat": 4,
 "nbformat_minor": 4
}
