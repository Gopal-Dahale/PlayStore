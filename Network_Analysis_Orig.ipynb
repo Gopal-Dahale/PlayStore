{
  "nbformat": 4,
  "nbformat_minor": 0,
  "metadata": {
    "colab": {
      "name": "Network Analysis Orig.ipynb",
      "provenance": [],
      "collapsed_sections": []
    },
    "kernelspec": {
      "name": "python3",
      "display_name": "Python 3"
    },
    "language_info": {
      "name": "python"
    }
  },
  "cells": [
    {
      "cell_type": "code",
      "metadata": {
        "id": "4YLRhWFVntWr"
      },
      "source": [
        "%%capture\n",
        "!pip install powerlaw"
      ],
      "execution_count": null,
      "outputs": []
    },
    {
      "cell_type": "code",
      "metadata": {
        "id": "DF4DflO0H2hP"
      },
      "source": [
        "import pandas as pd\n",
        "import networkx as nx\n",
        "from operator import itemgetter\n",
        "from networkx.algorithms import community\n",
        "import matplotlib.pyplot as plt\n",
        "import matplotlib as mpl\n",
        "import seaborn as sns\n",
        "import powerlaw # Power laws are probability distributions with the form:p(x)∝x−α\n",
        "import community as community_louvain"
      ],
      "execution_count": null,
      "outputs": []
    },
    {
      "cell_type": "code",
      "metadata": {
        "colab": {
          "base_uri": "https://localhost:8080/"
        },
        "id": "kQ7oXTs6ILo7",
        "outputId": "335f2023-19d2-4e22-91fb-05661a58c39e"
      },
      "source": [
        "from google.colab import drive\n",
        "drive.mount('/content/gdrive')"
      ],
      "execution_count": null,
      "outputs": [
        {
          "output_type": "stream",
          "text": [
            "Drive already mounted at /content/gdrive; to attempt to forcibly remount, call drive.mount(\"/content/gdrive\", force_remount=True).\n"
          ],
          "name": "stdout"
        }
      ]
    },
    {
      "cell_type": "code",
      "metadata": {
        "id": "lk5iPkxHH3vV"
      },
      "source": [
        "nodes = pd.read_csv('/content/gdrive/MyDrive/PlayStore Data/Dataset.csv')\n",
        "edges = pd.read_csv('/content/gdrive/MyDrive/PlayStore Data/Edges.csv',sep='\\t')"
      ],
      "execution_count": null,
      "outputs": []
    },
    {
      "cell_type": "code",
      "metadata": {
        "colab": {
          "base_uri": "https://localhost:8080/"
        },
        "id": "6D_qxDzxAaHB",
        "outputId": "92a4153d-d932-4c56-e0d1-4857cca679a4"
      },
      "source": [
        "len(nodes),len(edges)"
      ],
      "execution_count": null,
      "outputs": [
        {
          "output_type": "execute_result",
          "data": {
            "text/plain": [
              "(57590, 29533258)"
            ]
          },
          "metadata": {
            "tags": []
          },
          "execution_count": 4
        }
      ]
    },
    {
      "cell_type": "code",
      "metadata": {
        "id": "T6kiV8Rtsty_"
      },
      "source": [
        "edges.drop_duplicates(subset=['Source','Target'],inplace = True)"
      ],
      "execution_count": null,
      "outputs": []
    },
    {
      "cell_type": "code",
      "metadata": {
        "colab": {
          "base_uri": "https://localhost:8080/"
        },
        "id": "zB9bWotIs7a6",
        "outputId": "95432315-4530-4794-f422-39a67e4120b9"
      },
      "source": [
        "len(edges)"
      ],
      "execution_count": null,
      "outputs": [
        {
          "output_type": "execute_result",
          "data": {
            "text/plain": [
              "22151501"
            ]
          },
          "metadata": {
            "tags": []
          },
          "execution_count": 6
        }
      ]
    },
    {
      "cell_type": "code",
      "metadata": {
        "id": "erw6R4HLVFym"
      },
      "source": [
        "G = nx.from_pandas_edgelist(edges,'Source',\"Target\",[\"interaction\"]) # create graph"
      ],
      "execution_count": null,
      "outputs": []
    },
    {
      "cell_type": "code",
      "metadata": {
        "id": "GGvEvj8enyF8"
      },
      "source": [
        "del edges"
      ],
      "execution_count": null,
      "outputs": []
    },
    {
      "cell_type": "code",
      "metadata": {
        "id": "4lumIAAFnj_E"
      },
      "source": [
        "nodeAttributes = ['price','scoreText','category']"
      ],
      "execution_count": null,
      "outputs": []
    },
    {
      "cell_type": "code",
      "metadata": {
        "id": "pNjSMSTynkGm"
      },
      "source": [
        "for attribute in nodeAttributes:\n",
        "  nx.set_node_attributes(G,dict(zip(nodes['appId'],nodes[attribute])),name = attribute)"
      ],
      "execution_count": null,
      "outputs": []
    },
    {
      "cell_type": "code",
      "metadata": {
        "colab": {
          "base_uri": "https://localhost:8080/"
        },
        "id": "ncrqHcERoX1R",
        "outputId": "c9d6074b-d095-4444-db01-35178aae90dc"
      },
      "source": [
        "print(nx.info(G))"
      ],
      "execution_count": null,
      "outputs": [
        {
          "output_type": "stream",
          "text": [
            "Name: \n",
            "Type: Graph\n",
            "Number of nodes: 45813\n",
            "Number of edges: 22151501\n",
            "Average degree: 967.0400\n"
          ],
          "name": "stdout"
        }
      ]
    },
    {
      "cell_type": "code",
      "metadata": {
        "colab": {
          "base_uri": "https://localhost:8080/"
        },
        "id": "t6geQLmeojSF",
        "outputId": "026d1bcb-bf77-4c39-ef2a-c975e6f1f8a4"
      },
      "source": [
        "density = nx.density(G)\n",
        "print(\"Network density:\", density)"
      ],
      "execution_count": null,
      "outputs": [
        {
          "output_type": "stream",
          "text": [
            "Network density: 0.02110887904526422\n"
          ],
          "name": "stdout"
        }
      ]
    },
    {
      "cell_type": "code",
      "metadata": {
        "colab": {
          "base_uri": "https://localhost:8080/"
        },
        "id": "hA00uIKlqBgn",
        "outputId": "ae368343-7e4a-4bf6-b7b1-9751ac361dbf"
      },
      "source": [
        "print(nx.is_connected(G))"
      ],
      "execution_count": null,
      "outputs": [
        {
          "output_type": "stream",
          "text": [
            "False\n"
          ],
          "name": "stdout"
        }
      ]
    },
    {
      "cell_type": "code",
      "metadata": {
        "colab": {
          "base_uri": "https://localhost:8080/"
        },
        "id": "mc7x1fFjruRL",
        "outputId": "ceae13dd-04c0-48cb-9cb8-21892797d3d3"
      },
      "source": [
        "nx.number_connected_components(G)"
      ],
      "execution_count": null,
      "outputs": [
        {
          "output_type": "execute_result",
          "data": {
            "text/plain": [
              "8"
            ]
          },
          "metadata": {
            "tags": []
          },
          "execution_count": 24
        }
      ]
    },
    {
      "cell_type": "code",
      "metadata": {
        "colab": {
          "base_uri": "https://localhost:8080/"
        },
        "id": "MdNrmMG5qBpn",
        "outputId": "78a9816b-adba-4ed5-d140-df0e1111c2ae"
      },
      "source": [
        "components = nx.connected_components(G)\n",
        "graphs = []\n",
        "for c in components:\n",
        "  graphs.append(G.subgraph(c))\n",
        "for g in graphs:\n",
        "  print(nx.info(g))\n",
        "  print('-'*20)"
      ],
      "execution_count": null,
      "outputs": [
        {
          "output_type": "stream",
          "text": [
            "Name: \n",
            "Type: Graph\n",
            "Number of nodes: 45798\n",
            "Number of edges: 22151492\n",
            "Average degree: 967.3563\n",
            "--------------------\n",
            "Name: \n",
            "Type: Graph\n",
            "Number of nodes: 2\n",
            "Number of edges: 1\n",
            "Average degree:   1.0000\n",
            "--------------------\n",
            "Name: \n",
            "Type: Graph\n",
            "Number of nodes: 2\n",
            "Number of edges: 1\n",
            "Average degree:   1.0000\n",
            "--------------------\n",
            "Name: \n",
            "Type: Graph\n",
            "Number of nodes: 2\n",
            "Number of edges: 1\n",
            "Average degree:   1.0000\n",
            "--------------------\n",
            "Name: \n",
            "Type: Graph\n",
            "Number of nodes: 2\n",
            "Number of edges: 1\n",
            "Average degree:   1.0000\n",
            "--------------------\n",
            "Name: \n",
            "Type: Graph\n",
            "Number of nodes: 2\n",
            "Number of edges: 1\n",
            "Average degree:   1.0000\n",
            "--------------------\n",
            "Name: \n",
            "Type: Graph\n",
            "Number of nodes: 2\n",
            "Number of edges: 1\n",
            "Average degree:   1.0000\n",
            "--------------------\n",
            "Name: \n",
            "Type: Graph\n",
            "Number of nodes: 3\n",
            "Number of edges: 3\n",
            "Average degree:   2.0000\n",
            "--------------------\n"
          ],
          "name": "stdout"
        }
      ]
    },
    {
      "cell_type": "code",
      "metadata": {
        "colab": {
          "base_uri": "https://localhost:8080/"
        },
        "id": "qQb2yJ682CDr",
        "outputId": "e987736c-b128-44d2-def2-3664d42945ba"
      },
      "source": [
        "density = nx.density(graphs[0])\n",
        "print(\"Network density of largest component:\", density)"
      ],
      "execution_count": null,
      "outputs": [
        {
          "output_type": "stream",
          "text": [
            "Network density of largest component: 0.02112270025915941\n"
          ],
          "name": "stdout"
        }
      ]
    },
    {
      "cell_type": "code",
      "metadata": {
        "id": "XCdzeNJV1TUh"
      },
      "source": [
        "del components, graphs"
      ],
      "execution_count": null,
      "outputs": []
    },
    {
      "cell_type": "code",
      "metadata": {
        "id": "oP2ygOLizyyo"
      },
      "source": [
        "# This cell is taking too much time\n",
        "\n",
        "# largest_component = max(components, key=len)\n",
        "# subgraph = G.subgraph(largest_component)\n",
        "# diameter = nx.diameter(subgraph)\n",
        "# print(\"Network diameter of largest component:\", diameter)"
      ],
      "execution_count": null,
      "outputs": []
    },
    {
      "cell_type": "code",
      "metadata": {
        "id": "fXZ-hs5lsH6Y"
      },
      "source": [
        "degree_centrality = dict(G.degree(G.nodes()))\n",
        "sorted_degree = sorted(degree_centrality.items(), key=itemgetter(1), reverse=True)"
      ],
      "execution_count": null,
      "outputs": []
    },
    {
      "cell_type": "code",
      "metadata": {
        "colab": {
          "base_uri": "https://localhost:8080/"
        },
        "id": "NZvFObzgsIEF",
        "outputId": "beced71b-9761-445c-e4ea-75c30b36daa3"
      },
      "source": [
        "print(\"Top 10 Apps by degree:\")\n",
        "for d in sorted_degree[:10]:\n",
        "  print('App Name:',d[0])\n",
        "  print('Degree:',d[1])\n",
        "  for key,value in G.nodes[d[0]].items():\n",
        "    print(key+\":\",value)\n",
        "  print('-'*20)"
      ],
      "execution_count": null,
      "outputs": [
        {
          "output_type": "stream",
          "text": [
            "Top 10 Apps by degree:\n",
            "App Name: net.tsapps.appsales\n",
            "Degree: 4211\n",
            "price: 0.0\n",
            "scoreText: 4.3\n",
            "category: SHOPPING\n",
            "--------------------\n",
            "App Name: com.technologies.subtlelabs.doodhvale\n",
            "Degree: 3906\n",
            "price: 0.0\n",
            "scoreText: 4.4\n",
            "category: FOOD_AND_DRINK\n",
            "--------------------\n",
            "App Name: com.snapbreak.doors\n",
            "Degree: 3883\n",
            "price: 0.0\n",
            "scoreText: 4.5\n",
            "category: GAME_PUZZLE\n",
            "--------------------\n",
            "App Name: com.gamexis.sniper.professional.action.game.apps\n",
            "Degree: 3868\n",
            "price: 0.0\n",
            "scoreText: 4.1\n",
            "category: GAME_ACTION\n",
            "--------------------\n",
            "App Name: com.randomvideochat.livevideochat\n",
            "Degree: 3856\n",
            "price: 0.0\n",
            "scoreText: 3.9\n",
            "category: COMMUNICATION\n",
            "--------------------\n",
            "App Name: com.bigcodegames.doubleheadsharkattack\n",
            "Degree: 3805\n",
            "price: 0.0\n",
            "scoreText: 3.9\n",
            "category: GAME_CASUAL\n",
            "--------------------\n",
            "App Name: ninja.sesame.app.edge\n",
            "Degree: 3801\n",
            "price: 0.0\n",
            "scoreText: 3.9\n",
            "category: PERSONALIZATION\n",
            "--------------------\n",
            "App Name: imoblife.toolbox.full\n",
            "Degree: 3791\n",
            "price: 0.0\n",
            "scoreText: 4.4\n",
            "category: APPLICATION\n",
            "--------------------\n",
            "App Name: true.caller.livemobilelocation.locationtracker.numberlocator\n",
            "Degree: 3780\n",
            "price: 0.0\n",
            "scoreText: 4.3\n",
            "category: COMMUNICATION\n",
            "--------------------\n",
            "App Name: slingshot.building.destroy\n",
            "Degree: 3774\n",
            "price: 0.0\n",
            "scoreText: 4.2\n",
            "category: GAME_ARCADE\n",
            "--------------------\n"
          ],
          "name": "stdout"
        }
      ]
    },
    {
      "cell_type": "code",
      "metadata": {
        "id": "z-KiRpYqynCw"
      },
      "source": [
        "del degree_centrality,sorted_degree"
      ],
      "execution_count": null,
      "outputs": []
    },
    {
      "cell_type": "code",
      "metadata": {
        "colab": {
          "base_uri": "https://localhost:8080/",
          "height": 351
        },
        "id": "Fjqb-KTy4re0",
        "outputId": "c90319d2-3b5d-4fbe-d91d-fc604c2ecda0"
      },
      "source": [
        "degree_freq = nx.degree_histogram(G)\n",
        "degrees = range(len(degree_freq))\n",
        "plt.figure(figsize=(8, 5)) \n",
        "plt.plot(degrees, degree_freq,'go') \n",
        "plt.xlabel('Degree')\n",
        "plt.ylabel('Frequency')"
      ],
      "execution_count": null,
      "outputs": [
        {
          "output_type": "execute_result",
          "data": {
            "text/plain": [
              "Text(0, 0.5, 'Frequency')"
            ]
          },
          "metadata": {
            "tags": []
          },
          "execution_count": 11
        },
        {
          "output_type": "display_data",
          "data": {
            "image/png": "[encoded data removed]",
            "text/plain": [
              "<Figure size 576x360 with 1 Axes>"
            ]
          },
          "metadata": {
            "tags": [],
            "needs_background": "light"
          }
        }
      ]
    },
    {
      "cell_type": "code",
      "metadata": {
        "id": "c6wrfrxy9x3a"
      },
      "source": [
        "del degree_freq,degrees"
      ],
      "execution_count": null,
      "outputs": []
    },
    {
      "cell_type": "code",
      "metadata": {
        "colab": {
          "base_uri": "https://localhost:8080/",
          "height": 353
        },
        "id": "IpS7HQVBnpW-",
        "outputId": "e74c9592-60ae-4b66-8feb-b7ea964003dd"
      },
      "source": [
        "degree_sequence = sorted([d for n, d in G.degree()], reverse=True) # used for degree distribution and powerlaw test\n",
        "fit = powerlaw.Fit(degree_sequence, xmin=1)\n",
        "fig2 = fit.plot_pdf(color='b', linewidth=2)\n",
        "fit.power_law.plot_pdf(color='g', linestyle='--', ax=fig2);\n",
        "fit.alpha"
      ],
      "execution_count": null,
      "outputs": [
        {
          "output_type": "stream",
          "text": [
            "/usr/local/lib/python3.7/dist-packages/powerlaw.py:700: RuntimeWarning: invalid value encountered in true_divide\n",
            "  (Theoretical_CDF * (1 - Theoretical_CDF))\n",
            "/usr/local/lib/python3.7/dist-packages/powerlaw.py:700: RuntimeWarning: invalid value encountered in true_divide\n",
            "  (Theoretical_CDF * (1 - Theoretical_CDF))\n"
          ],
          "name": "stderr"
        },
        {
          "output_type": "execute_result",
          "data": {
            "text/plain": [
              "1.173899208693163"
            ]
          },
          "metadata": {
            "tags": []
          },
          "execution_count": 12
        },
        {
          "output_type": "display_data",
          "data": {
            "image/png": "[encoded data removed]",
            "text/plain": [
              "<Figure size 432x288 with 1 Axes>"
            ]
          },
          "metadata": {
            "tags": [],
            "needs_background": "light"
          }
        }
      ]
    }
  ]
}